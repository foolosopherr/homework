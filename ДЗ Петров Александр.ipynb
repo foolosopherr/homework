{
 "cells": [
  {
   "cell_type": "markdown",
   "id": "ca2f6ded-2cbb-4c12-bada-d65cec633368",
   "metadata": {},
   "source": [
    "### SQL\n",
    "#### 1."
   ]
  },
  {
   "cell_type": "markdown",
   "id": "f45f23ee-36bf-44d4-9cb9-2490cb3df841",
   "metadata": {},
   "source": [
    "##### select count(*) as count, p.name from Passenger p\n",
    "##### inner join Pass_in_trip t\n",
    "##### on t.passenger = p.id\n",
    "##### group by p.name\n",
    "##### order by count desc, name "
   ]
  },
  {
   "cell_type": "markdown",
   "id": "4be06603-424f-4c3c-baeb-b73a6372a723",
   "metadata": {},
   "source": [
    "#### 2. "
   ]
  },
  {
   "cell_type": "markdown",
   "id": "3d0122fe-084f-4f80-aae4-c7dd63aa5d43",
   "metadata": {},
   "source": [
    "##### select TIMEDIFF((select end_pair from Timepair\n",
    "##### where id=4), (SELECT start_pair from Timepair\n",
    "##### where id=2)) as time"
   ]
  },
  {
   "cell_type": "markdown",
   "id": "884bd7a5-7fde-4fda-a81a-f4515e9f5c98",
   "metadata": {},
   "source": [
    "#### 3. "
   ]
  },
  {
   "cell_type": "markdown",
   "id": "e1f9fa0b-4d1d-4da9-b40c-7a72c899bc92",
   "metadata": {},
   "source": [
    "##### select distinct r.* from Rooms r\n",
    "##### inner join Reservations rs \n",
    "##### on rs.room_id = r.id\n",
    "##### where week(rs.start_date, 1) = 12 and year(rs.start_date) = 2020"
   ]
  },
  {
   "cell_type": "markdown",
   "id": "452f35ed-d431-4005-b104-0a6d1f9c14af",
   "metadata": {},
   "source": [
    "#### 4. "
   ]
  },
  {
   "cell_type": "markdown",
   "id": "d6e46589-fd4c-4a8a-9ed3-cdbfffd50f14",
   "metadata": {},
   "source": [
    "##### select classroom from Schedule\n",
    "##### group by classroom\n",
    "##### having count(id) = (select max(count) from (\n",
    "##### select count(id) count from Schedule group by classroom) subq)"
   ]
  },
  {
   "cell_type": "markdown",
   "id": "3c08e04f-2fd3-44e1-86aa-476cb1217930",
   "metadata": {},
   "source": [
    "#### 5."
   ]
  },
  {
   "cell_type": "markdown",
   "id": "ec8c0b9c-1fcf-46df-bcaa-82f414478a9a",
   "metadata": {},
   "source": [
    "##### with dates as (select distinct date from income_o),\n",
    "##### periods as (select date dt1, lead(date) over(order by date) as dt2 from dates)\n",
    "##### select coalesce(sum(out), 0) amount, dt1, dt2\n",
    "##### from periods left join outcome_o\n",
    "##### on outcome_o.date > dt1 and outcome_o.date <= dt2\n",
    "##### where dt2 is not null\n",
    "##### group by dt1, dt2"
   ]
  },
  {
   "cell_type": "markdown",
   "id": "c5280a23-ffc3-42ac-9cd8-896e9ccec991",
   "metadata": {},
   "source": [
    "#### 6. "
   ]
  },
  {
   "cell_type": "markdown",
   "id": "a87b98b7-b0c1-4c28-af04-a98a7b6b146d",
   "metadata": {},
   "source": [
    "##### with description as (select row_number() over(order by date, name) number_of_battle, count(*) over() count, name, date from battles)\n",
    "##### select f.number_of_battle rn_1, f.name name_1, f.date date_1, s.number_of_battle rn_2, s.name name_2, s.date date_2 \n",
    "##### from description f left join description s\n",
    "##### on f.number_of_battle = s.number_of_battle - s.count/2 - s.count%2\n",
    "##### where f.number_of_battle <= f.count/2 + f.count%2"
   ]
  },
  {
   "cell_type": "markdown",
   "id": "10aa425f-10a1-4811-96e4-568b6331b1aa",
   "metadata": {},
   "source": [
    "### Математика\n",
    "#### 1."
   ]
  },
  {
   "cell_type": "markdown",
   "id": "6d10b7c8-92f2-4f01-a76e-5a87dc3f0e0a",
   "metadata": {},
   "source": [
    "###### Из отношения благоприятных событий ко всем возможным (формула вероятности), общее число событий равно 14^6, так как всего было 6 раундов и 14 возможных вариантов попадания волчка в каждом раунде. Так как волчок останавливается только на секторах 1-6, то будет все равно сколько существует секторов до и после 1-6. Примем секторы 0, 7-13 за один целый сектор, тогда вероятность выпадения секторов 1-6 будет равна 1/7 и так как теперь существует 7^6 событий, то вариантов выпадения 1-6 будет равна 7^5. Следовательно, для 14 различных секторов вероятность будет равна 7^5/14^6 = 1/7*2^6 = 1/448"
   ]
  },
  {
   "cell_type": "code",
   "execution_count": 1,
   "id": "0d94328b-e4ba-45f6-b102-17060ed368b5",
   "metadata": {},
   "outputs": [
    {
     "data": {
      "text/plain": [
       "'Или 0.00205'"
      ]
     },
     "execution_count": 1,
     "metadata": {},
     "output_type": "execute_result"
    }
   ],
   "source": [
    "f\"Или {round(1/488, 5)}\""
   ]
  },
  {
   "cell_type": "markdown",
   "id": "f34476e1-0068-4527-9e07-51ef18a1ee27",
   "metadata": {},
   "source": [
    "#### 2. "
   ]
  },
  {
   "cell_type": "code",
   "execution_count": 2,
   "id": "2a2f74d5-5e19-469b-8211-0432caabcbc4",
   "metadata": {},
   "outputs": [
    {
     "name": "stdout",
     "output_type": "stream",
     "text": [
      "99%-ый доверительный интервал расположен от 0.0505 до 0.1095\n"
     ]
    }
   ],
   "source": [
    "import math\n",
    "\n",
    "import scipy.stats as st\n",
    "\n",
    "\n",
    "def interval_norm(\n",
    "    n: int = 16, mean: float = 0.08, std: int = 0.04, alpha: float = 0.99\n",
    "):\n",
    "    se = math.sqrt(std ** 2 / n)\n",
    "    interval = st.t.interval(0.99, n - 1, loc=mean, scale=se)\n",
    "    print(\n",
    "        \"{}%-ый доверительный интервал расположен от {:.4f} до {:.4f}\".format(\n",
    "            int(alpha * 100), interval[0], interval[1]\n",
    "        )\n",
    "    )\n",
    "\n",
    "\n",
    "interval_norm()"
   ]
  },
  {
   "attachments": {
    "aa0ec555-f34f-4ad8-b676-a2e6d114142e.png": {
     "image/png": "[encoded data removed]"
    }
   },
   "cell_type": "markdown",
   "id": "41484269-abe2-40c3-b5ce-c86761402d54",
   "metadata": {},
   "source": [
    "#### 3.\n",
    "![image.png](attachment:aa0ec555-f34f-4ad8-b676-a2e6d114142e.png)"
   ]
  },
  {
   "cell_type": "markdown",
   "id": "2505d308-7b79-4836-9891-ec8c9199a5c4",
   "metadata": {},
   "source": [
    "Используется ранговый коэффициент корреляции Спирмена "
   ]
  },
  {
   "cell_type": "code",
   "execution_count": 3,
   "id": "a9ccc692-bead-452d-ad43-ee89d256d178",
   "metadata": {},
   "outputs": [
    {
     "name": "stdout",
     "output_type": "stream",
     "text": [
      "Принимается гипотеза о близкой оценке качеств противоположного пола, так как p value = 0.24\n"
     ]
    }
   ],
   "source": [
    "from scipy.stats import spearmanr\n",
    "\n",
    "males = [7, 8, 8, 5, 7]\n",
    "females = [10, 5, 3, 8, 10]\n",
    "\n",
    "corr, pvalue = spearmanr(males, females)\n",
    "print(\n",
    "    f\"Принимается гипотеза о близкой оценке качеств противоположного пола, \\\n",
    "так как p value = {round(pvalue, 2)}\"\n",
    ")"
   ]
  },
  {
   "cell_type": "markdown",
   "id": "fab16a13-9347-42d8-b35f-4e4a83f72777",
   "metadata": {},
   "source": [
    "### Основы программирования\n",
    "#### 1 и 2. \n",
    "Как я понял, второй номер мало чем отличается от первого, поэтому код один и тот же."
   ]
  },
  {
   "cell_type": "code",
   "execution_count": 4,
   "id": "c4b516ab-a672-44f7-8b90-6e885074387a",
   "metadata": {},
   "outputs": [],
   "source": [
    "from typing import List\n",
    "\n",
    "\n",
    "def indofsum(nums: List[int], target: int) -> List[int]:\n",
    "    dict_of_nums = dict()\n",
    "    for i in range(len(nums)):\n",
    "        if target - nums[i] in dict_of_nums:\n",
    "            return [dict_of_nums[target - nums[i]], i]\n",
    "        else:\n",
    "            dict_of_nums[nums[i]] = i\n",
    "    return f\"Нет элементов массива nums, дающих в сумме {target}\""
   ]
  }
 ],
 "metadata": {
  "kernelspec": {
   "display_name": "Python 3",
   "language": "python",
   "name": "python3"
  },
  "language_info": {
   "codemirror_mode": {
    "name": "ipython",
    "version": 3
   },
   "file_extension": ".py",
   "mimetype": "text/x-python",
   "name": "python",
   "nbconvert_exporter": "python",
   "pygments_lexer": "ipython3",
   "version": "3.8.8"
  }
 },
 "nbformat": 4,
 "nbformat_minor": 5
}
